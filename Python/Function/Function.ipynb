{
 "cells": [
  {
   "cell_type": "markdown",
   "id": "a6ce6212",
   "metadata": {},
   "source": [
    "### IF ELSE "
   ]
  },
  {
   "cell_type": "code",
   "execution_count": 1,
   "id": "b0a797ea",
   "metadata": {},
   "outputs": [],
   "source": [
    "num=24"
   ]
  },
  {
   "cell_type": "code",
   "execution_count": 8,
   "id": "ce60290a",
   "metadata": {},
   "outputs": [
    {
     "name": "stdout",
     "output_type": "stream",
     "text": [
      "This is even\n"
     ]
    }
   ],
   "source": [
    "if(num%2==0):\n",
    "    print('This is even')\n",
    "else:\n",
    "    print('This is odd')"
   ]
  },
  {
   "cell_type": "markdown",
   "id": "8c883ba3",
   "metadata": {},
   "source": [
    "### Function"
   ]
  },
  {
   "cell_type": "code",
   "execution_count": 9,
   "id": "4bcd6b20",
   "metadata": {},
   "outputs": [],
   "source": [
    "def sum_func(num):\n",
    "    if num%2==0:\n",
    "        print('This is even')\n",
    "    else:\n",
    "        print('This is odd')"
   ]
  },
  {
   "cell_type": "code",
   "execution_count": 10,
   "id": "794b5ffa",
   "metadata": {},
   "outputs": [
    {
     "name": "stdout",
     "output_type": "stream",
     "text": [
      "This is even\n"
     ]
    }
   ],
   "source": [
    "sum_func(34)"
   ]
  },
  {
   "cell_type": "code",
   "execution_count": 17,
   "id": "fd19db0c",
   "metadata": {},
   "outputs": [
    {
     "name": "stdout",
     "output_type": "stream",
     "text": [
      "This is even\n"
     ]
    }
   ],
   "source": [
    "data1=34\n",
    "sum_func(data1)"
   ]
  },
  {
   "cell_type": "markdown",
   "id": "918bdf91",
   "metadata": {},
   "source": [
    "### Return type function"
   ]
  },
  {
   "cell_type": "code",
   "execution_count": 13,
   "id": "9be5ed42",
   "metadata": {},
   "outputs": [],
   "source": [
    "def print_func():\n",
    "    return 'This is print function'"
   ]
  },
  {
   "cell_type": "code",
   "execution_count": 15,
   "id": "d8066c94",
   "metadata": {},
   "outputs": [],
   "source": [
    "data=print_func()"
   ]
  },
  {
   "cell_type": "code",
   "execution_count": 16,
   "id": "db3f1e88",
   "metadata": {},
   "outputs": [
    {
     "name": "stdout",
     "output_type": "stream",
     "text": [
      "This is print function\n"
     ]
    }
   ],
   "source": [
    "print(data)"
   ]
  },
  {
   "cell_type": "code",
   "execution_count": 23,
   "id": "a4e8badb",
   "metadata": {},
   "outputs": [],
   "source": [
    "def Print_func():\n",
    "    print('This is print function')"
   ]
  },
  {
   "cell_type": "code",
   "execution_count": 25,
   "id": "c8ab04e3",
   "metadata": {},
   "outputs": [
    {
     "name": "stdout",
     "output_type": "stream",
     "text": [
      "This is print function\n"
     ]
    }
   ],
   "source": [
    "Print_func()"
   ]
  },
  {
   "cell_type": "markdown",
   "id": "8fd03fcc",
   "metadata": {},
   "source": [
    "### Positional and Keyword arguments\n",
    "- Positional arguments are the arguments that are passed in the function\n",
    "- Keyword arguments are the arguments that can be predefined so if no value is passed then the argument gets the predefined value."
   ]
  },
  {
   "cell_type": "code",
   "execution_count": 26,
   "id": "c6fe4526",
   "metadata": {},
   "outputs": [],
   "source": [
    "def pre_def(name,age=23):\n",
    "    print('My name is {} and my age is {}'.format(name,age))"
   ]
  },
  {
   "cell_type": "code",
   "execution_count": 27,
   "id": "24d75d25",
   "metadata": {},
   "outputs": [
    {
     "name": "stdout",
     "output_type": "stream",
     "text": [
      "My name is Superman and my age is 23\n"
     ]
    }
   ],
   "source": [
    "pre_def('Superman')"
   ]
  },
  {
   "cell_type": "code",
   "execution_count": 28,
   "id": "efd07897",
   "metadata": {},
   "outputs": [
    {
     "name": "stdout",
     "output_type": "stream",
     "text": [
      "My name is Batman and my age is 34\n"
     ]
    }
   ],
   "source": [
    "pre_def('Batman',34)"
   ]
  },
  {
   "cell_type": "markdown",
   "id": "8ace9e29",
   "metadata": {},
   "source": [
    "### args and kwargs\n",
    "- Here using args and kwargs multiple values can be passed using same alias"
   ]
  },
  {
   "cell_type": "code",
   "execution_count": 5,
   "id": "49c72dc7",
   "metadata": {},
   "outputs": [],
   "source": [
    "def func(*args,**kwargs):\n",
    "    print(args)\n",
    "    print(kwargs)"
   ]
  },
  {
   "cell_type": "code",
   "execution_count": 4,
   "id": "cc8889ea",
   "metadata": {},
   "outputs": [
    {
     "name": "stdout",
     "output_type": "stream",
     "text": [
      "('ram', 'hari')\n",
      "{'age': 34, 'dob': 23}\n"
     ]
    }
   ],
   "source": [
    "func('ram','hari',age=34,dob=23)"
   ]
  },
  {
   "cell_type": "code",
   "execution_count": 1,
   "id": "3d30567e",
   "metadata": {},
   "outputs": [],
   "source": [
    "# This can also be done using a list and a dictionary"
   ]
  },
  {
   "cell_type": "code",
   "execution_count": 3,
   "id": "36234d48",
   "metadata": {},
   "outputs": [],
   "source": [
    "lst=['shyam','gita']\n",
    "dict_args={'age':32,'dob':3434}"
   ]
  },
  {
   "cell_type": "code",
   "execution_count": 6,
   "id": "e59c41a7",
   "metadata": {},
   "outputs": [
    {
     "name": "stdout",
     "output_type": "stream",
     "text": [
      "(['shyam', 'gita'], {'age': 32, 'dob': 3434})\n",
      "{}\n"
     ]
    }
   ],
   "source": [
    "func(lst,dict_args)"
   ]
  },
  {
   "cell_type": "code",
   "execution_count": 8,
   "id": "d9b9808f",
   "metadata": {},
   "outputs": [],
   "source": [
    "# Here (lst,dict_args) considers both the lst and dict as *args so you have to specify by using * and **"
   ]
  },
  {
   "cell_type": "code",
   "execution_count": 9,
   "id": "e3e52f50",
   "metadata": {},
   "outputs": [
    {
     "name": "stdout",
     "output_type": "stream",
     "text": [
      "('shyam', 'gita')\n",
      "{'age': 32, 'dob': 3434}\n"
     ]
    }
   ],
   "source": [
    "func(*lst,**dict_args)"
   ]
  },
  {
   "cell_type": "markdown",
   "id": "6b4f3a3f",
   "metadata": {},
   "source": [
    "### Function returning two different values"
   ]
  },
  {
   "cell_type": "code",
   "execution_count": 20,
   "id": "f7f0626b",
   "metadata": {},
   "outputs": [],
   "source": [
    "def two_values(one,two):\n",
    "    if one%2==0:\n",
    "        return one+two,one*two\n",
    "    else:\n",
    "        return one-two,one/two"
   ]
  },
  {
   "cell_type": "code",
   "execution_count": 13,
   "id": "4bb494bc",
   "metadata": {},
   "outputs": [
    {
     "name": "stdout",
     "output_type": "stream",
     "text": [
      "If both are even then sum and multiplication is (5, 6)\n"
     ]
    }
   ],
   "source": [
    "print(\"If both are even then sum and multiplication is {}\".format(two_values(2,3)))"
   ]
  },
  {
   "cell_type": "code",
   "execution_count": 22,
   "id": "673b6b2b",
   "metadata": {},
   "outputs": [
    {
     "name": "stdout",
     "output_type": "stream",
     "text": [
      "(-1, 0.75)\n"
     ]
    }
   ],
   "source": [
    "print(\"{}\".format(two_values(3,4)))"
   ]
  },
  {
   "cell_type": "code",
   "execution_count": 23,
   "id": "21c0e8b0",
   "metadata": {},
   "outputs": [],
   "source": [
    "lst=[1,2,3,4,5,6]"
   ]
  },
  {
   "cell_type": "code",
   "execution_count": 26,
   "id": "1aa15362",
   "metadata": {},
   "outputs": [],
   "source": [
    "def sum(lst):\n",
    "    evensum=0\n",
    "    oddsum=0\n",
    "    for i in lst:\n",
    "        if i%2==0:\n",
    "            evensum=evensum+i\n",
    "        else:\n",
    "            oddsum=oddsum+i\n",
    "    return oddsum,evensum\n",
    "            "
   ]
  },
  {
   "cell_type": "code",
   "execution_count": 28,
   "id": "d315e7c6",
   "metadata": {},
   "outputs": [
    {
     "name": "stdout",
     "output_type": "stream",
     "text": [
      "The even and odd sum is: (9, 12)\n"
     ]
    }
   ],
   "source": [
    "print(\"The even and odd sum is:\",sum(lst))"
   ]
  },
  {
   "cell_type": "markdown",
   "id": "e2e2d5f9",
   "metadata": {},
   "source": [
    "### Taking input in python"
   ]
  },
  {
   "cell_type": "code",
   "execution_count": 29,
   "id": "98351768",
   "metadata": {},
   "outputs": [
    {
     "name": "stdout",
     "output_type": "stream",
     "text": [
      "Enter the number:2332\n"
     ]
    }
   ],
   "source": [
    "val=input(\"Enter the number:\")"
   ]
  },
  {
   "cell_type": "code",
   "execution_count": 30,
   "id": "57621ec3",
   "metadata": {},
   "outputs": [
    {
     "data": {
      "text/plain": [
       "'2332'"
      ]
     },
     "execution_count": 30,
     "metadata": {},
     "output_type": "execute_result"
    }
   ],
   "source": [
    "val"
   ]
  },
  {
   "cell_type": "code",
   "execution_count": 31,
   "id": "3164f9db",
   "metadata": {},
   "outputs": [
    {
     "name": "stdout",
     "output_type": "stream",
     "text": [
      "Enter the string:pam ram sita gita\n"
     ]
    }
   ],
   "source": [
    "val=input(\"Enter the string:\")"
   ]
  },
  {
   "cell_type": "code",
   "execution_count": 32,
   "id": "b50b7b4d",
   "metadata": {},
   "outputs": [
    {
     "data": {
      "text/plain": [
       "'pam ram sita gita'"
      ]
     },
     "execution_count": 32,
     "metadata": {},
     "output_type": "execute_result"
    }
   ],
   "source": [
    "val"
   ]
  },
  {
   "cell_type": "code",
   "execution_count": 33,
   "id": "bced0ac6",
   "metadata": {},
   "outputs": [
    {
     "data": {
      "text/plain": [
       "str"
      ]
     },
     "execution_count": 33,
     "metadata": {},
     "output_type": "execute_result"
    }
   ],
   "source": [
    "type(val)"
   ]
  },
  {
   "cell_type": "markdown",
   "id": "3cfbdd9e",
   "metadata": {},
   "source": [
    "- Taking input as list"
   ]
  },
  {
   "cell_type": "code",
   "execution_count": 36,
   "id": "a207b673",
   "metadata": {},
   "outputs": [
    {
     "name": "stdout",
     "output_type": "stream",
     "text": [
      "Enter a list:123456789\n"
     ]
    }
   ],
   "source": [
    "lst=list(input(\"Enter a list:\"))"
   ]
  },
  {
   "cell_type": "code",
   "execution_count": 37,
   "id": "5118cea5",
   "metadata": {},
   "outputs": [
    {
     "data": {
      "text/plain": [
       "['1', '2', '3', '4', '5', '6', '7', '8', '9']"
      ]
     },
     "execution_count": 37,
     "metadata": {},
     "output_type": "execute_result"
    }
   ],
   "source": [
    "lst"
   ]
  },
  {
   "cell_type": "code",
   "execution_count": 38,
   "id": "71624ae5",
   "metadata": {},
   "outputs": [
    {
     "data": {
      "text/plain": [
       "list"
      ]
     },
     "execution_count": 38,
     "metadata": {},
     "output_type": "execute_result"
    }
   ],
   "source": [
    "type(lst)"
   ]
  },
  {
   "cell_type": "markdown",
   "id": "29e390c6",
   "metadata": {},
   "source": [
    "### Map function"
   ]
  },
  {
   "cell_type": "code",
   "execution_count": 29,
   "id": "d1b2391f",
   "metadata": {},
   "outputs": [],
   "source": [
    "def func(num):\n",
    "    if num%2==0:\n",
    "        return \"The number {} is even\".format(num)\n",
    "    else:\n",
    "        return \"The number {} is odd\".format(num)"
   ]
  },
  {
   "cell_type": "code",
   "execution_count": 30,
   "id": "a51e2696",
   "metadata": {},
   "outputs": [
    {
     "data": {
      "text/plain": [
       "'The number 24 is even'"
      ]
     },
     "execution_count": 30,
     "metadata": {},
     "output_type": "execute_result"
    }
   ],
   "source": [
    "func(24)"
   ]
  },
  {
   "cell_type": "markdown",
   "id": "a861de90",
   "metadata": {},
   "source": [
    "- Here in case of list the compilation process is time consuming so we use map"
   ]
  },
  {
   "cell_type": "code",
   "execution_count": 32,
   "id": "9cd943e5",
   "metadata": {},
   "outputs": [],
   "source": [
    "lst=[1,2,3,4,5,6,7,8,9,0]"
   ]
  },
  {
   "cell_type": "code",
   "execution_count": 33,
   "id": "f1847978",
   "metadata": {},
   "outputs": [
    {
     "data": {
      "text/plain": [
       "<map at 0x29b2e8f0d00>"
      ]
     },
     "execution_count": 33,
     "metadata": {},
     "output_type": "execute_result"
    }
   ],
   "source": [
    "map(func,lst)"
   ]
  },
  {
   "cell_type": "markdown",
   "id": "961365c8",
   "metadata": {},
   "source": [
    "- Here the memory is not instantiated just by creating the map, it is instianted by creating the list"
   ]
  },
  {
   "cell_type": "code",
   "execution_count": 34,
   "id": "3655a41c",
   "metadata": {},
   "outputs": [
    {
     "data": {
      "text/plain": [
       "['The number 1 is odd',\n",
       " 'The number 2 is even',\n",
       " 'The number 3 is odd',\n",
       " 'The number 4 is even',\n",
       " 'The number 5 is odd',\n",
       " 'The number 6 is even',\n",
       " 'The number 7 is odd',\n",
       " 'The number 8 is even',\n",
       " 'The number 9 is odd',\n",
       " 'The number 0 is even']"
      ]
     },
     "execution_count": 34,
     "metadata": {},
     "output_type": "execute_result"
    }
   ],
   "source": [
    "list(map(func,lst))"
   ]
  },
  {
   "cell_type": "markdown",
   "id": "c6a4fa62",
   "metadata": {},
   "source": [
    "### Lambda function\n",
    "- Also called as anonymous function i.e a function with no name"
   ]
  },
  {
   "cell_type": "code",
   "execution_count": 35,
   "id": "1098f175",
   "metadata": {},
   "outputs": [],
   "source": [
    "def add(a,b):\n",
    "    return a+b"
   ]
  },
  {
   "cell_type": "code",
   "execution_count": 36,
   "id": "59e5279c",
   "metadata": {},
   "outputs": [
    {
     "data": {
      "text/plain": [
       "9"
      ]
     },
     "execution_count": 36,
     "metadata": {},
     "output_type": "execute_result"
    }
   ],
   "source": [
    "add(4,5)"
   ]
  },
  {
   "cell_type": "markdown",
   "id": "79bee12a",
   "metadata": {},
   "source": [
    "- Structure of lambda function is:\n",
    "- variable= lambda inputs:operation\n",
    "- And to call the function use:  variable(inputs)"
   ]
  },
  {
   "cell_type": "code",
   "execution_count": 40,
   "id": "0eddb95f",
   "metadata": {},
   "outputs": [],
   "source": [
    "sum=lambda a,b:a+b"
   ]
  },
  {
   "cell_type": "code",
   "execution_count": 41,
   "id": "ad2956fe",
   "metadata": {},
   "outputs": [
    {
     "data": {
      "text/plain": [
       "9"
      ]
     },
     "execution_count": 41,
     "metadata": {},
     "output_type": "execute_result"
    }
   ],
   "source": [
    "sum(4,5)"
   ]
  },
  {
   "cell_type": "code",
   "execution_count": 42,
   "id": "fe953d92",
   "metadata": {},
   "outputs": [],
   "source": [
    "even=lambda a:a%2==0"
   ]
  },
  {
   "cell_type": "code",
   "execution_count": 43,
   "id": "dcced780",
   "metadata": {},
   "outputs": [
    {
     "data": {
      "text/plain": [
       "False"
      ]
     },
     "execution_count": 43,
     "metadata": {},
     "output_type": "execute_result"
    }
   ],
   "source": [
    "even(5)"
   ]
  },
  {
   "cell_type": "code",
   "execution_count": 44,
   "id": "7188ed36",
   "metadata": {},
   "outputs": [],
   "source": [
    "plus=lambda x,y,z:x+y+z"
   ]
  },
  {
   "cell_type": "code",
   "execution_count": 45,
   "id": "a8cf3dab",
   "metadata": {},
   "outputs": [
    {
     "data": {
      "text/plain": [
       "6"
      ]
     },
     "execution_count": 45,
     "metadata": {},
     "output_type": "execute_result"
    }
   ],
   "source": [
    "plus(1,2,3)"
   ]
  },
  {
   "cell_type": "markdown",
   "id": "5f228276",
   "metadata": {},
   "source": [
    "### Filter function"
   ]
  },
  {
   "cell_type": "code",
   "execution_count": 51,
   "id": "c75b2c01",
   "metadata": {},
   "outputs": [],
   "source": [
    "def Func(num):\n",
    "    if num%2==0:\n",
    "        return True\n",
    "    else:\n",
    "        return False"
   ]
  },
  {
   "cell_type": "code",
   "execution_count": 52,
   "id": "601f56ef",
   "metadata": {},
   "outputs": [
    {
     "data": {
      "text/plain": [
       "False"
      ]
     },
     "execution_count": 52,
     "metadata": {},
     "output_type": "execute_result"
    }
   ],
   "source": [
    "Func(5)"
   ]
  },
  {
   "cell_type": "code",
   "execution_count": 54,
   "id": "35b6d8a0",
   "metadata": {},
   "outputs": [],
   "source": [
    "Lst=[1,2,3,4,5,6,7,8,9,0]"
   ]
  },
  {
   "cell_type": "code",
   "execution_count": 55,
   "id": "f8cb15cf",
   "metadata": {},
   "outputs": [
    {
     "data": {
      "text/plain": [
       "<filter at 0x29b2e8f4df0>"
      ]
     },
     "execution_count": 55,
     "metadata": {},
     "output_type": "execute_result"
    }
   ],
   "source": [
    "filter(Func,Lst)"
   ]
  },
  {
   "cell_type": "markdown",
   "id": "39f6e9a4",
   "metadata": {},
   "source": [
    "- Here memory has not been initialized yet"
   ]
  },
  {
   "cell_type": "code",
   "execution_count": 56,
   "id": "133a86c4",
   "metadata": {},
   "outputs": [
    {
     "data": {
      "text/plain": [
       "[2, 4, 6, 8, 0]"
      ]
     },
     "execution_count": 56,
     "metadata": {},
     "output_type": "execute_result"
    }
   ],
   "source": [
    "list(filter(Func,Lst))"
   ]
  },
  {
   "cell_type": "markdown",
   "id": "f789fc4b",
   "metadata": {},
   "source": [
    "- This can be directly done using"
   ]
  },
  {
   "cell_type": "code",
   "execution_count": 58,
   "id": "8f5e72b4",
   "metadata": {},
   "outputs": [
    {
     "data": {
      "text/plain": [
       "[1, 3, 5, 7, 9]"
      ]
     },
     "execution_count": 58,
     "metadata": {},
     "output_type": "execute_result"
    }
   ],
   "source": [
    "list(filter(lambda num:num%2!=0,Lst))"
   ]
  },
  {
   "cell_type": "code",
   "execution_count": 59,
   "id": "b573c297",
   "metadata": {},
   "outputs": [
    {
     "data": {
      "text/plain": [
       "[True, False, True, False, True, False, True, False, True, False]"
      ]
     },
     "execution_count": 59,
     "metadata": {},
     "output_type": "execute_result"
    }
   ],
   "source": [
    "list(map(lambda num:num%2!=0,Lst))"
   ]
  },
  {
   "cell_type": "markdown",
   "id": "220cc855",
   "metadata": {},
   "source": [
    "### List comprehension"
   ]
  },
  {
   "cell_type": "code",
   "execution_count": 63,
   "id": "d458bf8e",
   "metadata": {},
   "outputs": [],
   "source": [
    "lst1=[]\n",
    "def square(lst):\n",
    "    for i in lst:\n",
    "        lst1.append(i*i)\n",
    "    return lst1"
   ]
  },
  {
   "cell_type": "code",
   "execution_count": 64,
   "id": "fed1742d",
   "metadata": {},
   "outputs": [
    {
     "data": {
      "text/plain": [
       "[1, 4, 9, 16, 25]"
      ]
     },
     "execution_count": 64,
     "metadata": {},
     "output_type": "execute_result"
    }
   ],
   "source": [
    "square([1,2,3,4,5])"
   ]
  },
  {
   "cell_type": "markdown",
   "id": "8d4451fb",
   "metadata": {},
   "source": [
    "- This looping task can be directly done as shown below"
   ]
  },
  {
   "cell_type": "code",
   "execution_count": 65,
   "id": "1a2472d6",
   "metadata": {},
   "outputs": [],
   "source": [
    "lst=[1,2,3,4,5]"
   ]
  },
  {
   "cell_type": "code",
   "execution_count": 66,
   "id": "61b9fc53",
   "metadata": {},
   "outputs": [
    {
     "data": {
      "text/plain": [
       "[1, 4, 9, 16, 25]"
      ]
     },
     "execution_count": 66,
     "metadata": {},
     "output_type": "execute_result"
    }
   ],
   "source": [
    "[i*i for i in lst]"
   ]
  },
  {
   "cell_type": "code",
   "execution_count": 68,
   "id": "72e0fc2c",
   "metadata": {},
   "outputs": [
    {
     "data": {
      "text/plain": [
       "[1, 2, 3, 4, 5]"
      ]
     },
     "execution_count": 68,
     "metadata": {},
     "output_type": "execute_result"
    }
   ],
   "source": [
    "lst"
   ]
  },
  {
   "cell_type": "code",
   "execution_count": 70,
   "id": "573d1b57",
   "metadata": {},
   "outputs": [
    {
     "data": {
      "text/plain": [
       "[1, 4, 9, 16, 25]"
      ]
     },
     "execution_count": 70,
     "metadata": {},
     "output_type": "execute_result"
    }
   ],
   "source": [
    "LST=[i*i for i in lst]\n",
    "LST"
   ]
  },
  {
   "cell_type": "markdown",
   "id": "36932174",
   "metadata": {},
   "source": [
    "- If conditions can also be added into the list comprehension"
   ]
  },
  {
   "cell_type": "code",
   "execution_count": 71,
   "id": "1d445106",
   "metadata": {},
   "outputs": [],
   "source": [
    "LST1=[i*i for i in lst if i%2!=0]"
   ]
  },
  {
   "cell_type": "code",
   "execution_count": 72,
   "id": "b0994e16",
   "metadata": {},
   "outputs": [
    {
     "name": "stdout",
     "output_type": "stream",
     "text": [
      "[1, 9, 25]\n"
     ]
    }
   ],
   "source": [
    "print(LST1)"
   ]
  },
  {
   "cell_type": "markdown",
   "id": "497032e6",
   "metadata": {},
   "source": [
    "### Iterables vs Iterators"
   ]
  },
  {
   "cell_type": "code",
   "execution_count": 73,
   "id": "79ad8557",
   "metadata": {},
   "outputs": [],
   "source": [
    "lst=[1,2,3,4,5,6,7,8,9]"
   ]
  },
  {
   "cell_type": "code",
   "execution_count": 75,
   "id": "bc2f22c1",
   "metadata": {},
   "outputs": [
    {
     "name": "stdout",
     "output_type": "stream",
     "text": [
      "1\n",
      "2\n",
      "3\n",
      "4\n",
      "5\n",
      "6\n",
      "7\n",
      "8\n",
      "9\n"
     ]
    }
   ],
   "source": [
    "for i in lst:\n",
    "    print(i)"
   ]
  },
  {
   "cell_type": "markdown",
   "id": "4d4020e5",
   "metadata": {},
   "source": [
    "- Here we can iterate through all the elements of the list so, the list(lst) is iterable"
   ]
  },
  {
   "cell_type": "markdown",
   "id": "f917c002",
   "metadata": {},
   "source": [
    "#### Iterator\n",
    "- Here in iterator all the values are not initialized in the memory. The values are only initialized when we call next function\n",
    "- The memory is initialized on by one in memory from the starting element\n",
    "- If the next is at the last element then further executing the next function throws error but the for loop doesn't throw error and it shows only the elements present in the list"
   ]
  },
  {
   "cell_type": "code",
   "execution_count": 76,
   "id": "efb75682",
   "metadata": {},
   "outputs": [
    {
     "data": {
      "text/plain": [
       "<list_iterator at 0x29b2e8f4e80>"
      ]
     },
     "execution_count": 76,
     "metadata": {},
     "output_type": "execute_result"
    }
   ],
   "source": [
    "iter(lst)"
   ]
  },
  {
   "cell_type": "code",
   "execution_count": 100,
   "id": "68c63de1",
   "metadata": {},
   "outputs": [],
   "source": [
    "lst1=iter(lst)"
   ]
  },
  {
   "cell_type": "code",
   "execution_count": 101,
   "id": "40124360",
   "metadata": {},
   "outputs": [
    {
     "data": {
      "text/plain": [
       "1"
      ]
     },
     "execution_count": 101,
     "metadata": {},
     "output_type": "execute_result"
    }
   ],
   "source": [
    "next(lst1)"
   ]
  },
  {
   "cell_type": "code",
   "execution_count": 102,
   "id": "fd7287e3",
   "metadata": {},
   "outputs": [
    {
     "data": {
      "text/plain": [
       "2"
      ]
     },
     "execution_count": 102,
     "metadata": {},
     "output_type": "execute_result"
    }
   ],
   "source": [
    "next(lst1)"
   ]
  },
  {
   "cell_type": "code",
   "execution_count": 103,
   "id": "310ce007",
   "metadata": {},
   "outputs": [
    {
     "name": "stdout",
     "output_type": "stream",
     "text": [
      "3\n",
      "4\n",
      "5\n",
      "6\n",
      "7\n",
      "8\n",
      "9\n"
     ]
    }
   ],
   "source": [
    "for i in lst1:\n",
    "    print(i)\n"
   ]
  },
  {
   "cell_type": "code",
   "execution_count": null,
   "id": "1a9150fa",
   "metadata": {},
   "outputs": [],
   "source": []
  }
 ],
 "metadata": {
  "kernelspec": {
   "display_name": "Python 3 (ipykernel)",
   "language": "python",
   "name": "python3"
  },
  "language_info": {
   "codemirror_mode": {
    "name": "ipython",
    "version": 3
   },
   "file_extension": ".py",
   "mimetype": "text/x-python",
   "name": "python",
   "nbconvert_exporter": "python",
   "pygments_lexer": "ipython3",
   "version": "3.11.5"
  }
 },
 "nbformat": 4,
 "nbformat_minor": 5
}
