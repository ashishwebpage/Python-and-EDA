{
 "cells": [
  {
   "cell_type": "markdown",
   "id": "7308bc29",
   "metadata": {},
   "source": [
    "- The highest exception class is Exception class so all the other exceptions are derived from the exception class"
   ]
  },
  {
   "cell_type": "markdown",
   "id": "def539be",
   "metadata": {},
   "source": [
    "### Simple exception "
   ]
  },
  {
   "cell_type": "code",
   "execution_count": 3,
   "id": "b115da4f",
   "metadata": {},
   "outputs": [
    {
     "name": "stdout",
     "output_type": "stream",
     "text": [
      "Exception has occured\n"
     ]
    }
   ],
   "source": [
    "try:\n",
    "    # The code block where the exception can occur\n",
    "    a=b\n",
    "except:\n",
    "    print(\"Exception has occured\")"
   ]
  },
  {
   "cell_type": "markdown",
   "id": "988e051a",
   "metadata": {},
   "source": [
    "### Exception using Exception class"
   ]
  },
  {
   "cell_type": "code",
   "execution_count": 7,
   "id": "a8ab4537",
   "metadata": {},
   "outputs": [
    {
     "name": "stdout",
     "output_type": "stream",
     "text": [
      "name 'b' is not defined\n"
     ]
    }
   ],
   "source": [
    "try:\n",
    "    a=b\n",
    "# Here by using Exception class as alias ex, we can display the same error message displayed by the NameError.\n",
    "except Exception as ex:\n",
    "    print(ex)"
   ]
  },
  {
   "cell_type": "markdown",
   "id": "f052176d",
   "metadata": {},
   "source": [
    "### Exception displaying suitable message for specific exception\n",
    "- Here the general exception i.e Exception as ex must be placed at last"
   ]
  },
  {
   "cell_type": "code",
   "execution_count": 9,
   "id": "197e02ed",
   "metadata": {},
   "outputs": [
    {
     "name": "stdout",
     "output_type": "stream",
     "text": [
      "Required variable is not defined\n"
     ]
    }
   ],
   "source": [
    "try:\n",
    "    a=b\n",
    "except NameError:\n",
    "    print('Required variable is not defined')"
   ]
  },
  {
   "cell_type": "code",
   "execution_count": 22,
   "id": "bc47d0c1",
   "metadata": {},
   "outputs": [
    {
     "name": "stdout",
     "output_type": "stream",
     "text": [
      "Enter value of a:5\n",
      "Enter value of b:0\n",
      "The dinominator shouldnot be zero\n"
     ]
    }
   ],
   "source": [
    "try:\n",
    "    a=int(input(\"Enter value of a:\"))\n",
    "    b=int(input(\"Enter value of b:\"))\n",
    "    print(a/b)\n",
    "except ZeroDivisionError:\n",
    "    print(\"The dinominator shouldnot be zero\")\n",
    "except TypeError:\n",
    "    print(\"The type didn't match\")\n",
    "except NameError:\n",
    "    print(\"First declare the variable\")\n",
    "except Exception as ex:\n",
    "    print(\"Exception has occured\")\n",
    "    "
   ]
  },
  {
   "cell_type": "markdown",
   "id": "b13ed186",
   "metadata": {},
   "source": [
    "### Try Else \n",
    "- If the exception occurs then the else block is skipped. Also if the exception doesn't occur then the exception block is skipped"
   ]
  },
  {
   "cell_type": "code",
   "execution_count": 26,
   "id": "5076fede",
   "metadata": {},
   "outputs": [
    {
     "name": "stdout",
     "output_type": "stream",
     "text": [
      "Enter value of a:6\n",
      "Enter value of b:0\n",
      "The dinominator shouldnot be zero\n"
     ]
    }
   ],
   "source": [
    "try:\n",
    "    a=int(input(\"Enter value of a:\"))\n",
    "    b=int(input(\"Enter value of b:\"))\n",
    "    c=a/b\n",
    "except ZeroDivisionError:\n",
    "    print(\"The dinominator shouldnot be zero\")\n",
    "except TypeError:\n",
    "    print(\"The type didn't match\")\n",
    "except NameError:\n",
    "    print(\"First declare the variable\")\n",
    "except Exception as ex:\n",
    "    print(\"Exception has occured\")\n",
    "else:\n",
    "    print(c)"
   ]
  },
  {
   "cell_type": "markdown",
   "id": "55f4fb61",
   "metadata": {},
   "source": [
    "### Try Else and Finally\n",
    "- Here message written in finally is displayed regardless of the exception"
   ]
  },
  {
   "cell_type": "code",
   "execution_count": 28,
   "id": "2acd05e3",
   "metadata": {},
   "outputs": [
    {
     "name": "stdout",
     "output_type": "stream",
     "text": [
      "Enter value of a:4\n",
      "Enter value of b:0\n",
      "The dinominator shouldnot be zero\n",
      "The execution is finished regardless of the exception\n"
     ]
    }
   ],
   "source": [
    "try:\n",
    "    a=int(input(\"Enter value of a:\"))\n",
    "    b=int(input(\"Enter value of b:\"))\n",
    "    c=a/b\n",
    "except ZeroDivisionError:\n",
    "    print(\"The dinominator shouldnot be zero\")\n",
    "except TypeError:\n",
    "    print(\"The type didn't match\")\n",
    "except NameError:\n",
    "    print(\"First declare the variable\")\n",
    "except Exception as ex:\n",
    "    print(\"Exception has occured\")\n",
    "else:\n",
    "    print(c)\n",
    "finally:\n",
    "    print(\"The execution is finished regardless of the exception\")"
   ]
  },
  {
   "cell_type": "markdown",
   "id": "e05eb7d9",
   "metadata": {},
   "source": [
    "### Custom Exception"
   ]
  },
  {
   "cell_type": "code",
   "execution_count": 31,
   "id": "f7a8dfaf",
   "metadata": {},
   "outputs": [
    {
     "name": "stdout",
     "output_type": "stream",
     "text": [
      "table\n"
     ]
    }
   ],
   "source": [
    "\n"
   ]
  }
 ],
 "metadata": {
  "kernelspec": {
   "display_name": "Python 3 (ipykernel)",
   "language": "python",
   "name": "python3"
  },
  "language_info": {
   "codemirror_mode": {
    "name": "ipython",
    "version": 3
   },
   "file_extension": ".py",
   "mimetype": "text/x-python",
   "name": "python",
   "nbconvert_exporter": "python",
   "pygments_lexer": "ipython3",
   "version": "3.11.5"
  }
 },
 "nbformat": 4,
 "nbformat_minor": 5
}
