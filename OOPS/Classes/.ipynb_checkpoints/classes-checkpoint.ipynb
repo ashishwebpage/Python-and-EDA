{
 "cells": [
  {
   "cell_type": "markdown",
   "id": "99a5de4d",
   "metadata": {},
   "source": [
    "#### Empty class\n",
    "- Empty class can be created by using pass"
   ]
  },
  {
   "cell_type": "code",
   "execution_count": 1,
   "id": "607407e6",
   "metadata": {},
   "outputs": [],
   "source": [
    "class car:\n",
    "    pass"
   ]
  },
  {
   "cell_type": "code",
   "execution_count": 2,
   "id": "9b8100fe",
   "metadata": {},
   "outputs": [],
   "source": [
    "car1=car()"
   ]
  },
  {
   "cell_type": "code",
   "execution_count": 3,
   "id": "09ffa2a0",
   "metadata": {},
   "outputs": [
    {
     "data": {
      "text/plain": [
       "__main__.car"
      ]
     },
     "execution_count": 3,
     "metadata": {},
     "output_type": "execute_result"
    }
   ],
   "source": [
    "type(car1)"
   ]
  },
  {
   "cell_type": "code",
   "execution_count": 4,
   "id": "d9cccdf4",
   "metadata": {},
   "outputs": [],
   "source": [
    "# Here object car1 is created"
   ]
  },
  {
   "cell_type": "code",
   "execution_count": 5,
   "id": "4b568e21",
   "metadata": {},
   "outputs": [],
   "source": [
    "car1.window=5\n",
    "car1.name='mercedes'"
   ]
  },
  {
   "cell_type": "code",
   "execution_count": 6,
   "id": "7b0f82af",
   "metadata": {},
   "outputs": [
    {
     "name": "stdout",
     "output_type": "stream",
     "text": [
      "mercedes\n"
     ]
    }
   ],
   "source": [
    "print(car1.name)"
   ]
  },
  {
   "cell_type": "code",
   "execution_count": 7,
   "id": "f730d974",
   "metadata": {},
   "outputs": [],
   "source": [
    "car2=car()"
   ]
  },
  {
   "cell_type": "code",
   "execution_count": 8,
   "id": "7970195c",
   "metadata": {},
   "outputs": [],
   "source": [
    "car2.engine='petrol'"
   ]
  },
  {
   "cell_type": "code",
   "execution_count": 10,
   "id": "55180030",
   "metadata": {},
   "outputs": [
    {
     "name": "stdout",
     "output_type": "stream",
     "text": [
      "petrol\n"
     ]
    }
   ],
   "source": [
    "print(car2.engine)"
   ]
  },
  {
   "cell_type": "markdown",
   "id": "1451c74b",
   "metadata": {},
   "source": [
    "- Here using pass is not considered good as number of properties is not defined in the class so any number of properties can be created so, we use constructor i.e _init_"
   ]
  },
  {
   "cell_type": "code",
   "execution_count": 23,
   "id": "8ec4bce5",
   "metadata": {},
   "outputs": [],
   "source": [
    "class vehicle:\n",
    "    def __init__(self,Type,windows,engine):\n",
    "        self.Type=Type\n",
    "        self.windows=windows\n",
    "        self.engine=engine\n",
    "    def engine_type(self):\n",
    "        return 'The given is {} vehicle'.format(self.engine)"
   ]
  },
  {
   "cell_type": "markdown",
   "id": "596efa0c",
   "metadata": {},
   "source": [
    "- Here self assigns the value given by the object to the respective propeties of the class and it helps to access the attributes that are initialized inside the class"
   ]
  },
  {
   "cell_type": "code",
   "execution_count": 24,
   "id": "29e180a9",
   "metadata": {},
   "outputs": [],
   "source": [
    "car1=vehicle('car',5,'petrol')"
   ]
  },
  {
   "cell_type": "code",
   "execution_count": 16,
   "id": "f8038c00",
   "metadata": {},
   "outputs": [
    {
     "data": {
      "text/plain": [
       "['__class__',\n",
       " '__delattr__',\n",
       " '__dict__',\n",
       " '__dir__',\n",
       " '__doc__',\n",
       " '__eq__',\n",
       " '__format__',\n",
       " '__ge__',\n",
       " '__getattribute__',\n",
       " '__getstate__',\n",
       " '__gt__',\n",
       " '__hash__',\n",
       " '__init__',\n",
       " '__init_subclass__',\n",
       " '__le__',\n",
       " '__lt__',\n",
       " '__module__',\n",
       " '__ne__',\n",
       " '__new__',\n",
       " '__reduce__',\n",
       " '__reduce_ex__',\n",
       " '__repr__',\n",
       " '__setattr__',\n",
       " '__sizeof__',\n",
       " '__str__',\n",
       " '__subclasshook__',\n",
       " '__weakref__',\n",
       " '_init_']"
      ]
     },
     "execution_count": 16,
     "metadata": {},
     "output_type": "execute_result"
    }
   ],
   "source": [
    "dir(vehicle)"
   ]
  },
  {
   "cell_type": "code",
   "execution_count": 25,
   "id": "6a7acf56",
   "metadata": {},
   "outputs": [
    {
     "name": "stdout",
     "output_type": "stream",
     "text": [
      "petrol\n"
     ]
    }
   ],
   "source": [
    "print(car1.engine)"
   ]
  },
  {
   "cell_type": "code",
   "execution_count": 26,
   "id": "e6a75dee",
   "metadata": {},
   "outputs": [
    {
     "data": {
      "text/plain": [
       "'The given is petrol vehicle'"
      ]
     },
     "execution_count": 26,
     "metadata": {},
     "output_type": "execute_result"
    }
   ],
   "source": [
    "car1.engine_type()"
   ]
  },
  {
   "cell_type": "code",
   "execution_count": null,
   "id": "468f72ad",
   "metadata": {},
   "outputs": [],
   "source": []
  }
 ],
 "metadata": {
  "kernelspec": {
   "display_name": "Python 3 (ipykernel)",
   "language": "python",
   "name": "python3"
  },
  "language_info": {
   "codemirror_mode": {
    "name": "ipython",
    "version": 3
   },
   "file_extension": ".py",
   "mimetype": "text/x-python",
   "name": "python",
   "nbconvert_exporter": "python",
   "pygments_lexer": "ipython3",
   "version": "3.11.5"
  }
 },
 "nbformat": 4,
 "nbformat_minor": 5
}
